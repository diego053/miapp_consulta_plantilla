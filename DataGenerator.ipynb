{
  "nbformat": 4,
  "nbformat_minor": 0,
  "metadata": {
    "colab": {
      "name": "DataGenerator.ipynb",
      "provenance": [],
      "collapsed_sections": [],
      "mount_file_id": "1LMc9PXTzYzO8m_jcStz-_jNp7u-Xifgc",
      "authorship_tag": "ABX9TyOF9mnolqegTaTXaPfEyClN",
      "include_colab_link": true
    },
    "kernelspec": {
      "name": "python3",
      "display_name": "Python 3"
    },
    "language_info": {
      "name": "python"
    }
  },
  "cells": [
    {
      "cell_type": "markdown",
      "metadata": {
        "id": "view-in-github",
        "colab_type": "text"
      },
      "source": [
        "<a href=\"https://colab.research.google.com/github/diego053/miapp_consulta_plantilla/blob/master/DataGenerator.ipynb\" target=\"_parent\"><img src=\"https://colab.research.google.com/assets/colab-badge.svg\" alt=\"Open In Colab\"/></a>"
      ]
    },
    {
      "cell_type": "markdown",
      "source": [
        "# Datos de Atenciones realizadas a las asegurados - [Seguro Integral de Salud - SIS]\n"
      ],
      "metadata": {
        "id": "JYsUbBhFPn13"
      }
    },
    {
      "cell_type": "markdown",
      "source": [
        "## Conexion con Google Drive"
      ],
      "metadata": {
        "id": "F2mScH-pGqNk"
      }
    },
    {
      "cell_type": "code",
      "execution_count": 3,
      "metadata": {
        "id": "VuBpu4T1_wkF",
        "colab": {
          "base_uri": "https://localhost:8080/"
        },
        "outputId": "5e04d091-a977-43c9-b622-7c5602509b5d"
      },
      "outputs": [
        {
          "output_type": "stream",
          "name": "stdout",
          "text": [
            "Drive already mounted at /gdrive/; to attempt to forcibly remount, call drive.mount(\"/gdrive/\", force_remount=True).\n"
          ]
        }
      ],
      "source": [
        "from google.colab import drive\n",
        "drive.mount('/gdrive/')\n"
      ]
    },
    {
      "cell_type": "markdown",
      "source": [
        "## Importacion de librerias\n",
        "### Hacer uso de las librerias como pandas para el manejo de los datos y brindar la ruta de localizacion del archivo del cual se analizara los datos.\n",
        "\n",
        "\n"
      ],
      "metadata": {
        "id": "r-oSq8ftHMGr"
      }
    },
    {
      "cell_type": "code",
      "source": [
        "import pandas as pd\n",
        "import sqlalchemy as sql\n",
        "df=pd.read_csv('/gdrive/MyDrive/Colab Notebooks/DatosdeatencionRealizada/ATENCIONES_17.csv', delimiter='|', encoding='latin-1')\n",
        "df.head()"
      ],
      "metadata": {
        "colab": {
          "base_uri": "https://localhost:8080/",
          "height": 600
        },
        "id": "G_4jRgPoktj6",
        "outputId": "8fbb5f73-248d-41a6-9bfd-e01a4a49eb4c"
      },
      "execution_count": 8,
      "outputs": [
        {
          "output_type": "stream",
          "name": "stderr",
          "text": [
            "/usr/local/lib/python3.7/dist-packages/IPython/core/interactiveshell.py:2882: DtypeWarning: Columns (4,8,12) have mixed types.Specify dtype option on import or set low_memory=False.\n",
            "  exec(code_obj, self.user_global_ns, self.user_ns)\n"
          ]
        },
        {
          "output_type": "execute_result",
          "data": {
            "text/plain": [
              "    AÑO  MES  REGION PROVINCIA UBIGEO_DISTRITO        DISTRITO  \\\n",
              "0  2017   11  ÁNCASH     SANTA           21809  NUEVO CHIMBOTE   \n",
              "1  2017   11  ÁNCASH    SIHUAS           21901          SIHUAS   \n",
              "2  2017   11  ÁNCASH    SIHUAS           21901          SIHUAS   \n",
              "3  2017   11  ÁNCASH    SIHUAS           21901          SIHUAS   \n",
              "4  2017   11  ÁNCASH    SIHUAS           21901          SIHUAS   \n",
              "\n",
              "   COD_UNIDAD_EJECUTORA                      DESC_UNIDAD_EJECUTORA COD_IPRESS  \\\n",
              "0                1421.0  REGION ANCASH - RED DE SALUD PACIFICO SUR       7266   \n",
              "1                 745.0            REGION ANCASH - SALUD POMABAMBA       1795   \n",
              "2                 745.0            REGION ANCASH - SALUD POMABAMBA       1795   \n",
              "3                 745.0            REGION ANCASH - SALUD POMABAMBA       1795   \n",
              "4                 745.0            REGION ANCASH - SALUD POMABAMBA       1795   \n",
              "\n",
              "                               IPRESS NIVEL_EESS PLAN_DE_SEGURO COD_SERVICIO  \\\n",
              "0  PUESTO DE SALUD NICOLAS DE GARATEA          I       SIS NRUS          906   \n",
              "1            HOSPITAL DE APOYO SIHUAS         II   SIS GRATUITO            8   \n",
              "2            HOSPITAL DE APOYO SIHUAS         II   SIS GRATUITO            9   \n",
              "3            HOSPITAL DE APOYO SIHUAS         II   SIS GRATUITO           18   \n",
              "4            HOSPITAL DE APOYO SIHUAS         II   SIS GRATUITO           18   \n",
              "\n",
              "                                       DESC_SERVICIO       SEXO    GRUPO_EDAD  \\\n",
              "0  CONSULTA EXTERNA POR PROFESIONALES NO MÉDICOS ...   FEMENINO  18 - 29 AÑOS   \n",
              "1                         PROFILAXIS ANTIPARASITARIA  MASCULINO  05 - 11 AÑOS   \n",
              "2                                  ATENCIÓN PRENATAL   FEMENINO  12 - 17 AÑOS   \n",
              "3        SALUD REPRODUCTIVA (PLANIFICACIÓN FAMILIAR)   FEMENINO  30 - 59 AÑOS   \n",
              "4        SALUD REPRODUCTIVA (PLANIFICACIÓN FAMILIAR)  MASCULINO  12 - 17 AÑOS   \n",
              "\n",
              "   ATENCIONES  \n",
              "0           2  \n",
              "1           9  \n",
              "2           4  \n",
              "3          47  \n",
              "4           2  "
            ],
            "text/html": [
              "\n",
              "  <div id=\"df-0e1d59e6-7f96-4def-a436-74283a97f299\">\n",
              "    <div class=\"colab-df-container\">\n",
              "      <div>\n",
              "<style scoped>\n",
              "    .dataframe tbody tr th:only-of-type {\n",
              "        vertical-align: middle;\n",
              "    }\n",
              "\n",
              "    .dataframe tbody tr th {\n",
              "        vertical-align: top;\n",
              "    }\n",
              "\n",
              "    .dataframe thead th {\n",
              "        text-align: right;\n",
              "    }\n",
              "</style>\n",
              "<table border=\"1\" class=\"dataframe\">\n",
              "  <thead>\n",
              "    <tr style=\"text-align: right;\">\n",
              "      <th></th>\n",
              "      <th>AÑO</th>\n",
              "      <th>MES</th>\n",
              "      <th>REGION</th>\n",
              "      <th>PROVINCIA</th>\n",
              "      <th>UBIGEO_DISTRITO</th>\n",
              "      <th>DISTRITO</th>\n",
              "      <th>COD_UNIDAD_EJECUTORA</th>\n",
              "      <th>DESC_UNIDAD_EJECUTORA</th>\n",
              "      <th>COD_IPRESS</th>\n",
              "      <th>IPRESS</th>\n",
              "      <th>NIVEL_EESS</th>\n",
              "      <th>PLAN_DE_SEGURO</th>\n",
              "      <th>COD_SERVICIO</th>\n",
              "      <th>DESC_SERVICIO</th>\n",
              "      <th>SEXO</th>\n",
              "      <th>GRUPO_EDAD</th>\n",
              "      <th>ATENCIONES</th>\n",
              "    </tr>\n",
              "  </thead>\n",
              "  <tbody>\n",
              "    <tr>\n",
              "      <th>0</th>\n",
              "      <td>2017</td>\n",
              "      <td>11</td>\n",
              "      <td>ÁNCASH</td>\n",
              "      <td>SANTA</td>\n",
              "      <td>21809</td>\n",
              "      <td>NUEVO CHIMBOTE</td>\n",
              "      <td>1421.0</td>\n",
              "      <td>REGION ANCASH - RED DE SALUD PACIFICO SUR</td>\n",
              "      <td>7266</td>\n",
              "      <td>PUESTO DE SALUD NICOLAS DE GARATEA</td>\n",
              "      <td>I</td>\n",
              "      <td>SIS NRUS</td>\n",
              "      <td>906</td>\n",
              "      <td>CONSULTA EXTERNA POR PROFESIONALES NO MÉDICOS ...</td>\n",
              "      <td>FEMENINO</td>\n",
              "      <td>18 - 29 AÑOS</td>\n",
              "      <td>2</td>\n",
              "    </tr>\n",
              "    <tr>\n",
              "      <th>1</th>\n",
              "      <td>2017</td>\n",
              "      <td>11</td>\n",
              "      <td>ÁNCASH</td>\n",
              "      <td>SIHUAS</td>\n",
              "      <td>21901</td>\n",
              "      <td>SIHUAS</td>\n",
              "      <td>745.0</td>\n",
              "      <td>REGION ANCASH - SALUD POMABAMBA</td>\n",
              "      <td>1795</td>\n",
              "      <td>HOSPITAL DE APOYO SIHUAS</td>\n",
              "      <td>II</td>\n",
              "      <td>SIS GRATUITO</td>\n",
              "      <td>8</td>\n",
              "      <td>PROFILAXIS ANTIPARASITARIA</td>\n",
              "      <td>MASCULINO</td>\n",
              "      <td>05 - 11 AÑOS</td>\n",
              "      <td>9</td>\n",
              "    </tr>\n",
              "    <tr>\n",
              "      <th>2</th>\n",
              "      <td>2017</td>\n",
              "      <td>11</td>\n",
              "      <td>ÁNCASH</td>\n",
              "      <td>SIHUAS</td>\n",
              "      <td>21901</td>\n",
              "      <td>SIHUAS</td>\n",
              "      <td>745.0</td>\n",
              "      <td>REGION ANCASH - SALUD POMABAMBA</td>\n",
              "      <td>1795</td>\n",
              "      <td>HOSPITAL DE APOYO SIHUAS</td>\n",
              "      <td>II</td>\n",
              "      <td>SIS GRATUITO</td>\n",
              "      <td>9</td>\n",
              "      <td>ATENCIÓN PRENATAL</td>\n",
              "      <td>FEMENINO</td>\n",
              "      <td>12 - 17 AÑOS</td>\n",
              "      <td>4</td>\n",
              "    </tr>\n",
              "    <tr>\n",
              "      <th>3</th>\n",
              "      <td>2017</td>\n",
              "      <td>11</td>\n",
              "      <td>ÁNCASH</td>\n",
              "      <td>SIHUAS</td>\n",
              "      <td>21901</td>\n",
              "      <td>SIHUAS</td>\n",
              "      <td>745.0</td>\n",
              "      <td>REGION ANCASH - SALUD POMABAMBA</td>\n",
              "      <td>1795</td>\n",
              "      <td>HOSPITAL DE APOYO SIHUAS</td>\n",
              "      <td>II</td>\n",
              "      <td>SIS GRATUITO</td>\n",
              "      <td>18</td>\n",
              "      <td>SALUD REPRODUCTIVA (PLANIFICACIÓN FAMILIAR)</td>\n",
              "      <td>FEMENINO</td>\n",
              "      <td>30 - 59 AÑOS</td>\n",
              "      <td>47</td>\n",
              "    </tr>\n",
              "    <tr>\n",
              "      <th>4</th>\n",
              "      <td>2017</td>\n",
              "      <td>11</td>\n",
              "      <td>ÁNCASH</td>\n",
              "      <td>SIHUAS</td>\n",
              "      <td>21901</td>\n",
              "      <td>SIHUAS</td>\n",
              "      <td>745.0</td>\n",
              "      <td>REGION ANCASH - SALUD POMABAMBA</td>\n",
              "      <td>1795</td>\n",
              "      <td>HOSPITAL DE APOYO SIHUAS</td>\n",
              "      <td>II</td>\n",
              "      <td>SIS GRATUITO</td>\n",
              "      <td>18</td>\n",
              "      <td>SALUD REPRODUCTIVA (PLANIFICACIÓN FAMILIAR)</td>\n",
              "      <td>MASCULINO</td>\n",
              "      <td>12 - 17 AÑOS</td>\n",
              "      <td>2</td>\n",
              "    </tr>\n",
              "  </tbody>\n",
              "</table>\n",
              "</div>\n",
              "      <button class=\"colab-df-convert\" onclick=\"convertToInteractive('df-0e1d59e6-7f96-4def-a436-74283a97f299')\"\n",
              "              title=\"Convert this dataframe to an interactive table.\"\n",
              "              style=\"display:none;\">\n",
              "        \n",
              "  <svg xmlns=\"http://www.w3.org/2000/svg\" height=\"24px\"viewBox=\"0 0 24 24\"\n",
              "       width=\"24px\">\n",
              "    <path d=\"M0 0h24v24H0V0z\" fill=\"none\"/>\n",
              "    <path d=\"M18.56 5.44l.94 2.06.94-2.06 2.06-.94-2.06-.94-.94-2.06-.94 2.06-2.06.94zm-11 1L8.5 8.5l.94-2.06 2.06-.94-2.06-.94L8.5 2.5l-.94 2.06-2.06.94zm10 10l.94 2.06.94-2.06 2.06-.94-2.06-.94-.94-2.06-.94 2.06-2.06.94z\"/><path d=\"M17.41 7.96l-1.37-1.37c-.4-.4-.92-.59-1.43-.59-.52 0-1.04.2-1.43.59L10.3 9.45l-7.72 7.72c-.78.78-.78 2.05 0 2.83L4 21.41c.39.39.9.59 1.41.59.51 0 1.02-.2 1.41-.59l7.78-7.78 2.81-2.81c.8-.78.8-2.07 0-2.86zM5.41 20L4 18.59l7.72-7.72 1.47 1.35L5.41 20z\"/>\n",
              "  </svg>\n",
              "      </button>\n",
              "      \n",
              "  <style>\n",
              "    .colab-df-container {\n",
              "      display:flex;\n",
              "      flex-wrap:wrap;\n",
              "      gap: 12px;\n",
              "    }\n",
              "\n",
              "    .colab-df-convert {\n",
              "      background-color: #E8F0FE;\n",
              "      border: none;\n",
              "      border-radius: 50%;\n",
              "      cursor: pointer;\n",
              "      display: none;\n",
              "      fill: #1967D2;\n",
              "      height: 32px;\n",
              "      padding: 0 0 0 0;\n",
              "      width: 32px;\n",
              "    }\n",
              "\n",
              "    .colab-df-convert:hover {\n",
              "      background-color: #E2EBFA;\n",
              "      box-shadow: 0px 1px 2px rgba(60, 64, 67, 0.3), 0px 1px 3px 1px rgba(60, 64, 67, 0.15);\n",
              "      fill: #174EA6;\n",
              "    }\n",
              "\n",
              "    [theme=dark] .colab-df-convert {\n",
              "      background-color: #3B4455;\n",
              "      fill: #D2E3FC;\n",
              "    }\n",
              "\n",
              "    [theme=dark] .colab-df-convert:hover {\n",
              "      background-color: #434B5C;\n",
              "      box-shadow: 0px 1px 3px 1px rgba(0, 0, 0, 0.15);\n",
              "      filter: drop-shadow(0px 1px 2px rgba(0, 0, 0, 0.3));\n",
              "      fill: #FFFFFF;\n",
              "    }\n",
              "  </style>\n",
              "\n",
              "      <script>\n",
              "        const buttonEl =\n",
              "          document.querySelector('#df-0e1d59e6-7f96-4def-a436-74283a97f299 button.colab-df-convert');\n",
              "        buttonEl.style.display =\n",
              "          google.colab.kernel.accessAllowed ? 'block' : 'none';\n",
              "\n",
              "        async function convertToInteractive(key) {\n",
              "          const element = document.querySelector('#df-0e1d59e6-7f96-4def-a436-74283a97f299');\n",
              "          const dataTable =\n",
              "            await google.colab.kernel.invokeFunction('convertToInteractive',\n",
              "                                                     [key], {});\n",
              "          if (!dataTable) return;\n",
              "\n",
              "          const docLinkHtml = 'Like what you see? Visit the ' +\n",
              "            '<a target=\"_blank\" href=https://colab.research.google.com/notebooks/data_table.ipynb>data table notebook</a>'\n",
              "            + ' to learn more about interactive tables.';\n",
              "          element.innerHTML = '';\n",
              "          dataTable['output_type'] = 'display_data';\n",
              "          await google.colab.output.renderOutput(dataTable, element);\n",
              "          const docLink = document.createElement('div');\n",
              "          docLink.innerHTML = docLinkHtml;\n",
              "          element.appendChild(docLink);\n",
              "        }\n",
              "      </script>\n",
              "    </div>\n",
              "  </div>\n",
              "  "
            ]
          },
          "metadata": {},
          "execution_count": 8
        }
      ]
    },
    {
      "cell_type": "markdown",
      "source": [
        "## Graficando datos..."
      ],
      "metadata": {
        "id": "76JbMU3jQV0V"
      }
    },
    {
      "cell_type": "code",
      "source": [
        ""
      ],
      "metadata": {
        "id": "jZqVcvdZQU_A"
      },
      "execution_count": null,
      "outputs": []
    }
  ]
}